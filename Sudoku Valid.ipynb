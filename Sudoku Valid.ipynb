{
 "cells": [
  {
   "cell_type": "markdown",
   "id": "d2178ca4",
   "metadata": {},
   "source": [
    "# Valid Sudoku"
   ]
  },
  {
   "cell_type": "markdown",
   "id": "bab1a669",
   "metadata": {},
   "source": [
    "This is my approach to the Leetcode problem Valid Sudoku\n",
    "\n",
    "https://leetcode.com/problems/valid-sudoku/description/\n",
    "    \n",
    "Given a 9x9 grid of numbers and blanks is it a valid starting point for a Sudoku, i.e. is there no repetition on any row, \n",
    "column or 3x3 subgrid?"
   ]
  },
  {
   "cell_type": "code",
   "execution_count": null,
   "id": "dfe34b80",
   "metadata": {},
   "outputs": [],
   "source": [
    "def isValidSudoku(board):\n",
    "    \n",
    "    #function to check rows\n",
    "    def check_nine(in_):\n",
    "        for i in range(9):\n",
    "            for j in range(1,10):\n",
    "                if in_[i].count(str(j)) > 1:\n",
    "                    return False\n",
    "            \n",
    "    #checks rows\n",
    "    if check_nine(board) == False:\n",
    "        return False\n",
    "    \n",
    "    #checks columns\n",
    "    trans = [[board[j][i] for j in range(9)] for i in range(9)] # transpose of matrix\n",
    "    if check_nine(trans) == False:\n",
    "        return False\n",
    "    \n",
    "    #checks 3x3 boxes\n",
    "    box = list(range(9))\n",
    "    for i in range(0, 9, 3):\n",
    "        for j in range(0, 9, 3):\n",
    "            for k in range(9):\n",
    "                box[k] = []\n",
    "                for m in range(3):\n",
    "                    for n in range(3):\n",
    "                        box[k].append(board[i+m][j+n])\n",
    "            if check_nine(box) == False:\n",
    "                return False\n",
    "                \n",
    "            \n",
    "    return True"
   ]
  },
  {
   "cell_type": "markdown",
   "id": "73600ab0",
   "metadata": {},
   "source": [
    "## Test cases"
   ]
  },
  {
   "cell_type": "code",
   "execution_count": 2,
   "id": "83c3b715",
   "metadata": {},
   "outputs": [],
   "source": [
    "case1 = [[\"5\",\"3\",\".\",\".\",\"7\",\".\",\".\",\".\",\".\"]\n",
    ",[\"6\",\".\",\".\",\"1\",\"9\",\"5\",\".\",\".\",\".\"]\n",
    ",[\".\",\"9\",\"8\",\".\",\".\",\".\",\".\",\"6\",\".\"]\n",
    ",[\"8\",\".\",\".\",\".\",\"6\",\".\",\".\",\".\",\"3\"]\n",
    ",[\"4\",\".\",\".\",\"8\",\".\",\"3\",\".\",\".\",\"1\"]\n",
    ",[\"7\",\".\",\".\",\".\",\"2\",\".\",\".\",\".\",\"6\"]\n",
    ",[\".\",\"6\",\".\",\".\",\".\",\".\",\"2\",\"8\",\".\"]\n",
    ",[\".\",\".\",\".\",\"4\",\"1\",\"9\",\".\",\".\",\"5\"]\n",
    ",[\".\",\".\",\".\",\".\",\"8\",\".\",\".\",\"7\",\"9\"]]\n",
    "case2 = [[\"8\",\"3\",\".\",\".\",\"7\",\".\",\".\",\".\",\".\"]\n",
    ",[\"6\",\".\",\".\",\"1\",\"9\",\"5\",\".\",\".\",\".\"]\n",
    ",[\".\",\"9\",\"8\",\".\",\".\",\".\",\".\",\"6\",\".\"]\n",
    ",[\"8\",\".\",\".\",\".\",\"6\",\".\",\".\",\".\",\"3\"]\n",
    ",[\"4\",\".\",\".\",\"8\",\".\",\"3\",\".\",\".\",\"1\"]\n",
    ",[\"7\",\".\",\".\",\".\",\"2\",\".\",\".\",\".\",\"6\"]\n",
    ",[\".\",\"6\",\".\",\".\",\".\",\".\",\"2\",\"8\",\".\"]\n",
    ",[\".\",\".\",\".\",\"4\",\"1\",\"9\",\".\",\".\",\"5\"]\n",
    ",[\".\",\".\",\".\",\".\",\"8\",\".\",\".\",\"7\",\"9\"]] # same as case 1 but with upper left corner changed"
   ]
  },
  {
   "cell_type": "code",
   "execution_count": null,
   "id": "15774fd7",
   "metadata": {},
   "outputs": [],
   "source": [
    "isValidSudoku(case1)"
   ]
  },
  {
   "cell_type": "code",
   "execution_count": null,
   "id": "671812f4",
   "metadata": {},
   "outputs": [],
   "source": [
    "isValidSudoku(case2)"
   ]
  },
  {
   "cell_type": "markdown",
   "id": "172ae493",
   "metadata": {},
   "source": [
    "## Slightly different approach"
   ]
  },
  {
   "cell_type": "code",
   "execution_count": 3,
   "id": "93ee5a2a",
   "metadata": {},
   "outputs": [],
   "source": [
    "#second attempt checking rows separately\n",
    "\n",
    "def isValidSudoku(board):\n",
    "    \n",
    "    #check nines\n",
    "    def check_nine(_):\n",
    "        for i in range(9):\n",
    "            for j in range(1,10):\n",
    "                if _.count(str(j)) > 1:\n",
    "                    return False\n",
    "                    \n",
    "    #check rows\n",
    "    for i in range(9):\n",
    "        if check_nine(board[i]) == False:\n",
    "            return False\n",
    "        \n",
    "    #check cols\n",
    "    trans = [[board[j][i] for j in range(9)] for i in range(9)] # transpose of matrix\n",
    "    for i in range(9):\n",
    "        if check_nine(trans[i]) == False:\n",
    "            return False\n",
    "        \n",
    "    #check 3x3 boxes\n",
    "    for i in range(0, 9, 3):\n",
    "        for j in range(0, 9, 3):\n",
    "            boxes = []\n",
    "            for m in range(3):\n",
    "                for n in range(3):\n",
    "                    boxes.append(board[i+m][j+n])\n",
    "            if check_nine(boxes) == False:\n",
    "                return False\n",
    "            \n",
    "    return True"
   ]
  },
  {
   "cell_type": "code",
   "execution_count": 4,
   "id": "7393085e",
   "metadata": {},
   "outputs": [
    {
     "data": {
      "text/plain": [
       "True"
      ]
     },
     "execution_count": 4,
     "metadata": {},
     "output_type": "execute_result"
    }
   ],
   "source": [
    "isValidSudoku(case1)"
   ]
  },
  {
   "cell_type": "code",
   "execution_count": 5,
   "id": "be908a89",
   "metadata": {},
   "outputs": [
    {
     "data": {
      "text/plain": [
       "False"
      ]
     },
     "execution_count": 5,
     "metadata": {},
     "output_type": "execute_result"
    }
   ],
   "source": [
    "isValidSudoku(case2)"
   ]
  },
  {
   "cell_type": "code",
   "execution_count": null,
   "id": "8a79a1b2",
   "metadata": {},
   "outputs": [],
   "source": []
  }
 ],
 "metadata": {
  "kernelspec": {
   "display_name": "Python 3 (ipykernel)",
   "language": "python",
   "name": "python3"
  },
  "language_info": {
   "codemirror_mode": {
    "name": "ipython",
    "version": 3
   },
   "file_extension": ".py",
   "mimetype": "text/x-python",
   "name": "python",
   "nbconvert_exporter": "python",
   "pygments_lexer": "ipython3",
   "version": "3.11.3"
  }
 },
 "nbformat": 4,
 "nbformat_minor": 5
}
